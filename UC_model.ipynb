{
 "cells": [
  {
   "cell_type": "markdown",
   "id": "f939827d-6830-4b35-88e0-e9e47bb6dbcf",
   "metadata": {},
   "source": [
    "Comments with double pound sign (##) were made by me in Jupyter. All other prompts were used for code generation."
   ]
  },
  {
   "cell_type": "code",
   "execution_count": 44,
   "id": "f86081c0-a7a2-4161-bdd0-5fcb70969a8a",
   "metadata": {},
   "outputs": [],
   "source": [
    "#python\n",
    "#using pyomo define the variables and parameters needed for a simple two stage unit commitment problem\n",
    "\n",
    "#import pyomo\n",
    "from pyomo.environ import *\n",
    "\n",
    "#create a model object\n",
    "model = ConcreteModel()\n",
    "\n",
    "# define generators\n",
    "generator_list = [\n",
    "    {'startup_cost': 50, 'production_cost': 100, 'max_output': 200, 'min_output': 0},\n",
    "    {'startup_cost': 30, 'production_cost': 80, 'max_output': 150, 'min_output': 50},\n",
    "    {'startup_cost': 20, 'production_cost': 70, 'max_output': 100, 'min_output': 0},\n",
    "    {'startup_cost': 10, 'production_cost': 40, 'max_output': 70, 'min_output': 0},\n",
    "    {'startup_cost': 5, 'production_cost': 20, 'max_output': 30, 'min_output': 0}\n",
    "]\n",
    "\n",
    "# define sets\n",
    "model.stages = Set(initialize = [1,2])\n",
    "model.units = Set(initialize = [1,2,3,4,5])\n",
    "demand = {1:300,2:500} #this is also adjusted before solving!\n",
    "load_shed_cost = 500"
   ]
  },
  {
   "cell_type": "code",
   "execution_count": 45,
   "id": "5a718950-8e17-4409-adff-b10e953cc080",
   "metadata": {},
   "outputs": [],
   "source": [
    "# define parameters\n",
    "model.demand = Param(model.stages, within=NonNegativeReals, initialize = demand, mutable = True)\n",
    "model.load_shed_cost = Param( within=NonNegativeReals, initialize = load_shed_cost, mutable = True)\n",
    "\n",
    "# add generator data to the model\n",
    "model.startup_costs = Param(model.units, initialize=dict(zip(model.units, [g['startup_cost'] for g in generator_list])))\n",
    "model.production_costs = Param(model.units, initialize=dict(zip(model.units, [g['production_cost']  for g in generator_list])))\n",
    "\n",
    "#define generator parameters and initialize them with generator_list\n",
    "model.max_output = Param(model.units, initialize=dict(zip(model.units, [g['max_output'] for g in generator_list])))\n",
    "model.min_output = Param(model.units, initialize=dict(zip(model.units, [g['min_output'] for g in generator_list])))\n",
    "\n",
    "# define variables\n",
    "model.commit = Var(model.stages, model.units, within=Binary)\n",
    "model.onoff = Var(model.stages, model.units, within=Binary)\n",
    "model.production = Var(model.stages, model.units, within=NonNegativeReals)\n",
    "model.load_shed = Var(model.stages, within=NonNegativeReals)"
   ]
  },
  {
   "cell_type": "code",
   "execution_count": 46,
   "id": "9c5c44b6-9ca7-46d3-9c6d-c446b4cf953b",
   "metadata": {},
   "outputs": [],
   "source": [
    "#define the unit commitment constraints and cost function\n",
    "\n",
    "#commitment constraints\n",
    "def commit_rule(model,s,u):\n",
    "    return model.commit[s,u] <= model.onoff[s,u]\n",
    "model.commit_constraint = Constraint(model.stages, model.units, rule=commit_rule)\n",
    "\n",
    "#onoff constraints\n",
    "def onoff_rule(model,s,u):\n",
    "    if s == 1:\n",
    "        return model.onoff[s,u] == model.commit[s,u]\n",
    "    elif s == 2:\n",
    "        return model.onoff[s,u] == model.commit[s,u] + model.onoff[s-1,u]\n",
    "model.onoff_constraint = Constraint(model.stages, model.units, rule=onoff_rule)\n",
    "\n",
    "#min and max output constraints\n",
    "def output_rule(model,s,u):\n",
    "    return model.production[s,u] <= model.onoff[s,u]*model.max_output[u]\n",
    "model.output_constraint = Constraint(model.stages, model.units, rule=output_rule)\n",
    "\n",
    "#demand constraint\n",
    "def demand_rule(model,s):\n",
    "    return sum(model.production[s,u] for u in model.units) + model.load_shed[s] == model.demand[s]\n",
    "model.demand_constraint = Constraint(model.stages, rule=demand_rule)\n",
    "    \n",
    "#cost function\n",
    "def cost_func(model):\n",
    "    return sum(sum(model.startup_costs[u]*model.commit[s,u] + model.production_costs[u] * model.production[s,u] for u in model.units) + model.load_shed_cost * model.load_shed[s] for s in model.stages)\n",
    "model.cost = Objective(rule=cost_func, sense=minimize)"
   ]
  },
  {
   "cell_type": "code",
   "execution_count": 47,
   "id": "cb9d8b1b-a7c9-4cf5-b4ca-ac8a2c8272c5",
   "metadata": {},
   "outputs": [
    {
     "name": "stdout",
     "output_type": "stream",
     "text": [
      "Total Cost:  21865.0\n",
      "Load Shed Cost:  0.0\n",
      "Time step 1:\n",
      "Unit 1 Commitment: 0.0 Production: 0.0\n",
      "Unit 2 Commitment: 1.0 Production: 0.0\n",
      "Unit 3 Commitment: 1.0 Production: 0.0\n",
      "Unit 4 Commitment: 1.0 Production: 70.0\n",
      "Unit 5 Commitment: 1.0 Production: 30.0\n",
      "Time step 2:\n",
      "Unit 1 Commitment: 0.0 Production: 0.0\n",
      "Unit 2 Commitment: 0.0 Production: 100.0\n",
      "Unit 3 Commitment: 0.0 Production: 100.0\n",
      "Unit 4 Commitment: 0.0 Production: 70.0\n",
      "Unit 5 Commitment: 0.0 Production: 30.0\n"
     ]
    }
   ],
   "source": [
    "## change the demand\n",
    "demand = [100,300]\n",
    "for i, d in enumerate(demand):   \n",
    "    model.demand[i+1] = d\n",
    "    \n",
    "#solve model and print the results    \n",
    "solver = SolverFactory('gurobi')\n",
    "solver.solve(model)\n",
    "\n",
    "##Total Cost\n",
    "print('Total Cost: ', value(model.cost))\n",
    "print('Load Shed Cost: ', sum(value(model.load_shed_cost)*value(model.load_shed[s]) for s in model.stages))\n",
    "\n",
    "#print the results for both timesteps\n",
    "#for time step 1\n",
    "print(\"Time step 1:\")\n",
    "for u in model.units:\n",
    "    print(\"Unit \" + str(u) + \" Commitment: \" + str(model.commit[1,u]()) + \" Production: \" + str(model.production[1,u]()))\n",
    "\n",
    "#for time step 2\n",
    "print(\"Time step 2:\")\n",
    "for u in model.units:\n",
    "    print(\"Unit \" + str(u) + \" Commitment: \" + str(model.commit[2,u]()) + \" Production: \" + str(model.production[2,u]()))"
   ]
  },
  {
   "cell_type": "code",
   "execution_count": null,
   "id": "ce7eb85f-2352-48bb-8e45-5a1a5265d8f1",
   "metadata": {},
   "outputs": [],
   "source": []
  }
 ],
 "metadata": {
  "kernelspec": {
   "display_name": "Python 3 (ipykernel)",
   "language": "python",
   "name": "python3"
  },
  "language_info": {
   "codemirror_mode": {
    "name": "ipython",
    "version": 3
   },
   "file_extension": ".py",
   "mimetype": "text/x-python",
   "name": "python",
   "nbconvert_exporter": "python",
   "pygments_lexer": "ipython3",
   "version": "3.8.13"
  }
 },
 "nbformat": 4,
 "nbformat_minor": 5
}
